{
 "cells": [
  {
   "cell_type": "code",
   "execution_count": null,
   "metadata": {},
   "outputs": [],
   "source": [
    "from utils.data_utils import construct_url\n"
   ]
  },
  {
   "cell_type": "code",
   "execution_count": 14,
   "metadata": {},
   "outputs": [
    {
     "name": "stdout",
     "output_type": "stream",
     "text": [
      "Constructed URL: https://docs.google.com/uc?export=download&id=1g7bh8mtpwa_VWKxfjMaDH8FngiV8ieXo\n"
     ]
    }
   ],
   "source": [
    "file_id = \"1g7bh8mtpwa_VWKxfjMaDH8FngiV8ieXo\"\n",
    "url = construct_url(file_id)\n",
    "print(f\"Constructed URL: {url}\")"
   ]
  }
 ],
 "metadata": {
  "kernelspec": {
   "display_name": "10-a",
   "language": "python",
   "name": "python3"
  },
  "language_info": {
   "codemirror_mode": {
    "name": "ipython",
    "version": 3
   },
   "file_extension": ".py",
   "mimetype": "text/x-python",
   "name": "python",
   "nbconvert_exporter": "python",
   "pygments_lexer": "ipython3",
   "version": "3.12.2"
  }
 },
 "nbformat": 4,
 "nbformat_minor": 2
}
