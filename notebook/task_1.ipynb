{
 "cells": [
  {
   "cell_type": "code",
   "execution_count": 1,
   "metadata": {},
   "outputs": [
    {
     "name": "stdout",
     "output_type": "stream",
     "text": [
      "Intel MKL WARNING: Support of Intel(R) Streaming SIMD Extensions 4.2 (Intel(R) SSE4.2) enabled only processors has been deprecated. Intel oneAPI Math Kernel Library 2025.0 will require Intel(R) Advanced Vector Extensions (Intel(R) AVX) instructions.\n",
      "Intel MKL WARNING: Support of Intel(R) Streaming SIMD Extensions 4.2 (Intel(R) SSE4.2) enabled only processors has been deprecated. Intel oneAPI Math Kernel Library 2025.0 will require Intel(R) Advanced Vector Extensions (Intel(R) AVX) instructions.\n"
     ]
    }
   ],
   "source": [
    "# Import packages\n",
    "import pandas as pd\n",
    "import numpy as np\n",
    "import matplotlib.pyplot as pt\n",
    "import seaborn as sb"
   ]
  },
  {
   "cell_type": "code",
   "execution_count": 2,
   "metadata": {},
   "outputs": [],
   "source": [
    "# Import util packages\n",
    "import sys\n",
    "import os\n",
    "\n",
    "# Add the parent directory to the system path\n",
    "sys.path.append(os.path.abspath('..'))\n",
    "from utils import construct_url, download_file, load_file"
   ]
  },
  {
   "cell_type": "code",
   "execution_count": 3,
   "metadata": {},
   "outputs": [
    {
     "name": "stderr",
     "output_type": "stream",
     "text": [
      "Downloading...\n",
      "From: https://docs.google.com/uc?export=download&id=1g7bh8mtpwa_VWKxfjMaDH8FngiV8ieXo\n",
      "To: /Users/mac/10a/10-academy-week-4/data/rossmann_data.zip\n",
      "100%|██████████| 7.33M/7.33M [00:15<00:00, 488kB/s]\n",
      "/Users/mac/10a/10-academy-week-4/utils/data_utils.py:19: DtypeWarning: Columns (7) have mixed types. Specify dtype option on import or set low_memory=False.\n",
      "  train_data = pd.read_csv(f\"{csv_file_path}train.csv\")\n"
     ]
    }
   ],
   "source": [
    "# Download the file\n",
    "file_id = \"1g7bh8mtpwa_VWKxfjMaDH8FngiV8ieXo\"\n",
    "\n",
    "download_url = construct_url(file_id)\n",
    "download_file(download_url)\n",
    "\n",
    "# Load the data\n",
    "store_data, train_data, test_data, sample_submission = load_file()"
   ]
  },
  {
   "cell_type": "code",
   "execution_count": 4,
   "metadata": {},
   "outputs": [
    {
     "name": "stdout",
     "output_type": "stream",
     "text": [
      "   Store StoreType Assortment  CompetitionDistance  CompetitionOpenSinceMonth  \\\n",
      "0      1         c          a               1270.0                        9.0   \n",
      "1      2         a          a                570.0                       11.0   \n",
      "2      3         a          a              14130.0                       12.0   \n",
      "3      4         c          c                620.0                        9.0   \n",
      "4      5         a          a              29910.0                        4.0   \n",
      "\n",
      "   CompetitionOpenSinceYear  Promo2  Promo2SinceWeek  Promo2SinceYear  \\\n",
      "0                    2008.0       0              NaN              NaN   \n",
      "1                    2007.0       1             13.0           2010.0   \n",
      "2                    2006.0       1             14.0           2011.0   \n",
      "3                    2009.0       0              NaN              NaN   \n",
      "4                    2015.0       0              NaN              NaN   \n",
      "\n",
      "     PromoInterval  \n",
      "0              NaN  \n",
      "1  Jan,Apr,Jul,Oct  \n",
      "2  Jan,Apr,Jul,Oct  \n",
      "3              NaN  \n",
      "4              NaN  \n",
      "   Store  DayOfWeek        Date  Sales  Customers  Open  Promo StateHoliday  \\\n",
      "0      1          5  2015-07-31   5263        555     1      1            0   \n",
      "1      2          5  2015-07-31   6064        625     1      1            0   \n",
      "2      3          5  2015-07-31   8314        821     1      1            0   \n",
      "3      4          5  2015-07-31  13995       1498     1      1            0   \n",
      "4      5          5  2015-07-31   4822        559     1      1            0   \n",
      "\n",
      "   SchoolHoliday  \n",
      "0              1  \n",
      "1              1  \n",
      "2              1  \n",
      "3              1  \n",
      "4              1  \n",
      "   Id  Store  DayOfWeek        Date  Open  Promo StateHoliday  SchoolHoliday\n",
      "0   1      1          4  2015-09-17   1.0      1            0              0\n",
      "1   2      3          4  2015-09-17   1.0      1            0              0\n",
      "2   3      7          4  2015-09-17   1.0      1            0              0\n",
      "3   4      8          4  2015-09-17   1.0      1            0              0\n",
      "4   5      9          4  2015-09-17   1.0      1            0              0\n",
      "   Id  Sales\n",
      "0   1      0\n",
      "1   2      0\n",
      "2   3      0\n",
      "3   4      0\n",
      "4   5      0\n"
     ]
    }
   ],
   "source": [
    "# Preview the data\n",
    "\n",
    "print(store_data.head())\n",
    "print(train_data.head())\n",
    "print(test_data.head())\n",
    "print(sample_submission.head())"
   ]
  }
 ],
 "metadata": {
  "kernelspec": {
   "display_name": "10-a",
   "language": "python",
   "name": "python3"
  },
  "language_info": {
   "codemirror_mode": {
    "name": "ipython",
    "version": 3
   },
   "file_extension": ".py",
   "mimetype": "text/x-python",
   "name": "python",
   "nbconvert_exporter": "python",
   "pygments_lexer": "ipython3",
   "version": "3.12.2"
  }
 },
 "nbformat": 4,
 "nbformat_minor": 2
}
